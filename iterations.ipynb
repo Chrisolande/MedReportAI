{
 "cells": [
  {
   "cell_type": "code",
   "execution_count": null,
   "id": "e0686613",
   "metadata": {},
   "outputs": [],
   "source": [
    "import os\n",
    "import warnings\n",
    "from collections.abc import Sequence\n",
    "from dataclasses import dataclass, field\n",
    "\n",
    "import dspy\n",
    "import nest_asyncio\n",
    "import numpy as np\n",
    "import pandas as pd\n",
    "from dotenv import load_dotenv\n",
    "from dspy import LM, configure\n",
    "from fastembed import TextEmbedding\n",
    "from fastembed.rerank.cross_encoder import TextCrossEncoder\n",
    "from langchain.retrievers import ContextualCompressionRetriever, EnsembleRetriever\n",
    "from langchain.retrievers.document_compressors import (\n",
    "    DocumentCompressorPipeline,\n",
    "    EmbeddingsFilter,\n",
    ")\n",
    "from langchain_community.document_loaders import CSVLoader\n",
    "from langchain_community.document_transformers import EmbeddingsRedundantFilter\n",
    "from langchain_community.retrievers import BM25Retriever\n",
    "from langchain_community.vectorstores import FAISS\n",
    "from langchain_core.callbacks import Callbacks\n",
    "from langchain_core.documents import BaseDocumentCompressor, Document\n",
    "from langchain_core.embeddings import Embeddings\n",
    "from langchain_deepseek import ChatDeepSeek\n",
    "from langchain_experimental.text_splitter import SemanticChunker\n",
    "from loguru import logger\n",
    "from pydantic import ConfigDict, Field\n",
    "from ragas.embeddings.base import LangchainEmbeddingsWrapper\n",
    "from ragas.llms import LangchainLLMWrapper\n",
    "from ragas.testset import TestsetGenerator\n",
    "from ragas.testset.synthesizers import (\n",
    "    MultiHopAbstractQuerySynthesizer,\n",
    "    SingleHopSpecificQuerySynthesizer,\n",
    ")\n",
    "\n",
    "warnings.filterwarnings(\"ignore\")\n",
    "nest_asyncio.apply()"
   ]
  },
  {
   "cell_type": "code",
   "execution_count": null,
   "id": "84f8f342",
   "metadata": {},
   "outputs": [],
   "source": [
    "# from pubmed_scraper import PubMedScraper\n",
    "\n",
    "# scraper = PubMedScraper(email = \"olandechris@gmail.com\")\n",
    "\n",
    "# data = scraper.search_with_llm(query = \"Find me 50 papers about Covid 19 from 2019 to 2025\")"
   ]
  },
  {
   "cell_type": "code",
   "execution_count": null,
   "id": "8d636b2c",
   "metadata": {},
   "outputs": [],
   "source": [
    "_ = load_dotenv()\n",
    "llm = ChatDeepSeek(model=\"deepseek-chat\", temperature=1.3)\n",
    "# llm = ChatOpenAI(model=\"openrouter/sonoma-dusk-alpha\")\n",
    "dspy_lm = LM(\n",
    "    \"deepseek/deepseek-chat\",\n",
    "    api_key=os.getenv(\"DEEPSEEK_API_KEY\"),\n",
    "    base_url=\"https://api.deepseek.com\",\n",
    ")\n",
    "\n",
    "# dspy_lm = LM(\n",
    "#     \"openrouter/openrouter/sonoma-dusk-alpha\",\n",
    "#     api_key=os.getenv(\"OPENAI_API_KEY\"),\n",
    "#     base_url=os.getenv(\"OPENAI_BASE_URL\"),\n",
    "# )\n",
    "configure(lm=dspy_lm)\n",
    "dspy.settings.configure(track_usage=True)\n",
    "# scraper = PubMedScraper(email = \"olandechris@gmail.com\")"
   ]
  },
  {
   "cell_type": "code",
   "execution_count": null,
   "id": "f6669371",
   "metadata": {},
   "outputs": [],
   "source": [
    "# df = scraper.search_with_llm(query = \"Find papers about the impact of Gaza war on children\")"
   ]
  },
  {
   "cell_type": "code",
   "execution_count": null,
   "id": "ceba3bc6",
   "metadata": {},
   "outputs": [],
   "source": [
    "df = pd.read_csv(\"data/gaza_war_impact_children.csv\")"
   ]
  },
  {
   "cell_type": "code",
   "execution_count": null,
   "id": "ddc6e3f4",
   "metadata": {},
   "outputs": [
    {
     "data": {
      "application/vnd.microsoft.datawrangler.viewer.v0+json": {
       "columns": [
        {
         "name": "index",
         "rawType": "int64",
         "type": "integer"
        },
        {
         "name": "Pmid",
         "rawType": "int64",
         "type": "integer"
        },
        {
         "name": "Title",
         "rawType": "object",
         "type": "string"
        },
        {
         "name": "Abstract",
         "rawType": "object",
         "type": "unknown"
        },
        {
         "name": "Authors",
         "rawType": "object",
         "type": "string"
        },
        {
         "name": "Journal",
         "rawType": "object",
         "type": "string"
        },
        {
         "name": "Keywords",
         "rawType": "object",
         "type": "unknown"
        },
        {
         "name": "Url",
         "rawType": "object",
         "type": "string"
        },
        {
         "name": "Affiliations",
         "rawType": "object",
         "type": "string"
        },
        {
         "name": "Publication Date",
         "rawType": "object",
         "type": "string"
        },
        {
         "name": "References",
         "rawType": "object",
         "type": "unknown"
        }
       ],
       "ref": "e97a2698-8387-449b-9921-9def501cc4b0",
       "rows": [
        [
         "0",
         "40678639",
         "Polio vaccination campaigns in conflicts: succeeding while other humanitarian efforts fail?",
         "In conflict settings, public health interventions such as vaccination campaigns and improvements in water, sanitation, and hygiene (WASH) could benefit all parties involved. However, while polio vaccination campaigns frequently succeed in securing humanitarian pauses, WASH initiatives attempting to improve safe water supply and sewage disposal rarely achieve the same outcome. Using the Israel-Gaza conflict as an example, we analyze the factors contributing to the success of polio vaccination campaigns compared to WASH initiatives. We identify four key elements that facilitate the implementation of polio campaigns in conflict zones: (i) the ubiquitous decline in vaccine coverage and the subsequent detection of polio cases; (ii) international institutional support, including the role of the Global Polio Eradication Initiative (GPEI); (iii) the shortness of the required humanitarian pauses, the vertical nature, and the straightforward impact assessment of vaccination campaigns; and (iv) their \"neutral\" character due to an intentionally restrictive focus on children as the primary beneficiaries. Although polio vaccination campaigns do not typically lead to lasting peace and WASH initiatives often fail to secure even temporary humanitarian pauses, public health efforts should seize every opportunity to foster cooperation between warring parties. Such initiatives can help build trust, laying the groundwork for future peace negotiations and post-conflict reconstruction.",
         "Sabahelzain Majdi M, Agha Hazem, Davidovitch Nadav, Razum Oliver",
         "Frontiers in public health",
         "Humans, Poliomyelitis, Israel, Immunization Programs, Armed Conflicts, Altruism, Poliovirus Vaccines, Hygiene, Sanitation, Vaccination",
         "https://www.ncbi.nlm.nih.gov/pubmed/40678639",
         "Sydney School of Public Health, The University of Sydney, Sydney, NSW, Australia.; Sydney Infectious Diseases Institute, Faculty of Medicine and Health, The University of Sydney, Sydney, NSW, Australia.; Al-Quds Public Health Society, Jerusalem, Palestine.; School of Public Health, Ben-Gurion University of the Negev, Be'er Sheva, Israel.; School of Public Health, Bielefeld University, Bielefeld, Germany.",
         "2025",
         "Schwartzstein P. The Rise, Fall, and Possible Rise Again of the Middle East's Most Ambitious Environment Scheme. Washington, DC: Wilson Center Insight & Analysis; (2024). | Llamazares M, El Hatab O, Shah J, King T. WASH for Peace - Conflict Sensitivity and Peacebuilding Guidance and Tools for the WASH Sector. New York: UNICEF (2024). 164 p. | Inter-Agency Standing Committee (IASC). Leadership in Humanitarian Action: Handbook for Humanitarian Coordinators. (2024). 126 p. Available online at: https://interagencystandingcommittee.org/sites/default/files/2024-09/Leadership%20in%20Humanitarian%20Action_Handbook%20for%20Humanitarian%20Coordinators_2024.pdf (Accessed June 22, 2025). | Kennedy J, Michailidou D. Civil war, contested sovereignty and the limits of global health partnerships: A case study of the Syrian polio outbreak in 2013. Health Policy Plan. (2017) 32:690–8. 10.1093/heapol/czw148 https://pubmed.ncbi.nlm.nih.gov/28453719 | Schneiker A. Why trust you? Security cooperation within humanitarian NGO networks. Disasters. (2020) 44:25–43. 10.1111/disa.12363 https://pubmed.ncbi.nlm.nih.gov/31231841"
        ],
        [
         "1",
         "40475386",
         "Trauma by the Numbers: A Cross-Sectional Analysis and Categorization of Trauma Cases in the Gaza War.",
         "To categorize and analyze trauma cases from the Gaza war, identifying injury patterns and informing future humanitarian efforts in conflict zones. A cross-sectional study was conducted in April 2024 at European Gaza Hospital. Data on demographics and injury types were collected from patients treated by FAJR Scientific's surgical team. Injuries were classified into primary (directly conflict-related), secondary (indirectly conflict-related), and tertiary (unrelated to the conflict). Statistical analyses included Kruskal-Wallis H test, logistic regression, and Fisher's Exact Test. Among the 80 surgical cases analyzed, primary injuries were the most common (53%), predominantly affecting males aged 30-39. Secondary injuries accounted for 14% of cases, while tertiary injuries represented 33%. Significant associations were found between age categories and injury classifications (p < 0.05). The prevalence of primary injuries highlights the severe impact of conflict on civilians, particularly middle-aged males. The findings suggest the need for enhanced orthopedic surgical capacity, integrated chronic disease management, and specialized pediatric care in conflict zones. Improved data collection and analysis are essential for optimizing medical interventions and resource allocation.",
         "Wajahath Muaaz, Nasser Elias, Nayfeh Tariq, Irfan Bilal, Balasundaram Rohit, Nasser Mosab, Saleh Khaled J",
         "International journal of public health",
         "Humans, Male, Cross-Sectional Studies, Adult, Female, Middle Aged, Middle East, Wounds and Injuries, Adolescent, Young Adult, Child, Child, Preschool, Aged, Armed Conflicts, Warfare, Prevalence, Infant",
         "https://www.ncbi.nlm.nih.gov/pubmed/40475386",
         "Michigan State University College of Human Medicine, Lansing, MI, United States.; FAJR Scientific, Houston, TX, United States.; The University of Texas Southwestern Medical Center, Dallas, TX, United States.; Center for Bioethics, Harvard Medical School, Boston, MA, United States.; Center for Surgery and Public Health, Brigham and Women's Hospital, Boston, MA, United States.; Department of Neurology, University of Michigan Medical School, Ann Arbor, MI, United States.; Wayne State University School of Medicine, Detroit, MI, United States.",
         "2025",
         "Magruder KM, McLaughlin KA, Elmore Borbon DL. Trauma Is a Public Health Issue. Eur J Psychotraumatol (2017) 8:1375338. 10.1080/20008198.2017.1375338 https://pubmed.ncbi.nlm.nih.gov/29435198 | Wild H, Stewart BT, LeBoa C, Stave CD, Wren SM. Epidemiology of Injuries Sustained by Civilians and Local Combatants in Contemporary Armed Conflict: An Appeal for a Shared Trauma Registry Among Humanitarian Actors. World J Surg (2020) 44:1863–73. 10.1007/s00268-020-05428-y https://pubmed.ncbi.nlm.nih.gov/32100067 | Awuah WA, Tan JK, Shah MH, Ahluwalia A, Roy S, Ali SH, et al. Addressing Abdominal Trauma from Conflict and Warfare in Under‐resourced Regions: A Critical Narrative Review. Health Sci Rep (2024) 7:e70151. 10.1002/hsr2.70151 https://pubmed.ncbi.nlm.nih.gov/39444729 | Nasser E, Alshaer N, Wajahath M, Irfan B, Tahir M, Nasser M, et al. Management of Fracture-Related Infection in Conflict Zones: Lessons Learned from Medical Missions to Gaza. Antibiotics (2024) 13:1020. 10.3390/antibiotics13111020 https://pubmed.ncbi.nlm.nih.gov/39596715 | Irfan B, Lulu I, Hamawy A, Shammala AA, Kullab S, Fawaz M, et al. Combating Infections under Siege: Healthcare Challenges amidst the Military Assault in Gaza. World Med and Health Pol (2025) 17:188–213. 10.1002/wmh3.642"
        ],
        [
         "2",
         "39957103",
         "Energy drinks, depression, insomnia, and stress in palestinian adolescents: a cross-sectional study.",
         "Adolescents are increasingly consuming energy drinks (EDs), prompting worries about their potential mental health impacts. The association between ED use and psychological effects among Palestinian teenagers, particularly the impact of smoking habits such as waterpipes, electronic cigarettes, and cigarettes, is little studied. This study explores the correlation between ED consumption and mental health outcomes such as depression, insomnia, and stress among adolescents in Palestine. A cross-sectional study was conducted from February to June 2024, involving adolescents aged 12-18 recruited from schools in the West Bank. Data collection utilized a structured questionnaire assessing ED consumption, smoking habits, depression (PHQ-9), insomnia (ISI), and stress (Adolescent Stress Scale). Data were analyzed using SPSS version 29. The research involved 1,668 adolescents, with a mean age of 15.67 years (±1.57 years). ED consumption was prevalent at 74.7 % (95 % CI: 76.5-72.7). Males and smokers, especially those using traditional cigarettes and waterpipes, exhibited a higher likelihood of consuming energy drinks (aPR: 2.18; 95 %CI: 1.64-2.91), (aPR: 2.99; 95 %CI: 1.49-5.59), and (aPR: 2.54; 95 %CI: 1.23-5.19). Depression exhibited a significant relationship with ED consumption (aPR: 2.25; 95%CI: 1.51-3.37). A dose-response relationship was identified between insomnia and ED consumption, with an adjusted prevalence ratio (aPR) of 2.42 (95 % CI: 1.56-3.47) for moderate severity and 2.95 (95 % CI: 1.28-6.75) for severe insomnia. ED consumption is associated with poorer mental health outcomes, particularly among smokers. Interventions targeting both ED use and smoking behaviors are crucial to improving mental health in Palestinian adolescents. The study was conducted during the Gaza war, a period marked by heightened stress levels among participants due to increased security checks and economic hardships. These challenges may have influenced participants' stress levels and impacted their purchasing behaviors for EDs and tobacco shisha products. Further research is needed to explore the long-term effects of these behaviors.",
         "Maraqa Beesan, Fasfoos Ahmad, Alami Mohammad, Banat Nader, Amr Obada, Saraheen Atef",
         "International journal of adolescent medicine and health",
         "Humans, Adolescent, Male, Sleep Initiation and Maintenance Disorders, Cross-Sectional Studies, Female, Energy Drinks, Stress, Psychological, Depression, Arabs, Surveys and Questionnaires, Middle East, Child, Prevalence, Smoking",
         "https://www.ncbi.nlm.nih.gov/pubmed/39957103",
         "College of Medicine, 115527 Hebron University , Hebron, Palestine.; Department of Family and Community Medicine, College of Medicine, Hebron University, Hebron, Palestine.",
         "2025-Feb-01",
         "Statisa . Revenue of the energy & sports drinks industry worldwide 2018-2029. Consumer goods & FMCG, non-alcoholic beverages; 2024. https://www.statista.com/statistics/691384/sales-value-energy-drinks-worldwide/#statisticContainer [Accessed 10 January 2025]. | Ali, F, Rehman, H, Babayan, Z, Stapleton, D, Joshi, DD. Energy drinks and their adverse health effects: a systematic review of the current evidence. Postgrad Med J 2015;127:308–22. https://doi.org/10.1080/00325481.2015.1001712 . | Al Sabbah, H, Younis, M. Consumption patterns and side effects of energy drinks among university students in Palestine: crosssectional study. MOJ Public Heal 2015;2. https://doi.org/10.15406/MOJPH.2015.02.00015 . | Trapp, G, Hurworth, M, Christian, H, Bromberg, M, Howard, J, McStay, C, et al.. Prevalence and pattern of energy drink intake among Australian adolescents. J Hum Nutr Diet 2021;34:300–4. https://doi.org/10.1111/JHN.12789 . | Galimov, A, Hanewinkel, R, Hansen, J, Unger, JB, Sussman, S, Morgenstern, M. Energy drink consumption among German adolescents: prevalence, correlates, and predictors of initiation. Appetite 2019;139:172–9. https://doi.org/10.1016/J.APPET.2019.04.016 ."
        ],
        [
         "3",
         "39258854",
         "European Academy of Paediatrics demands protection of children's rights endangered by the ongoing Israel Gaza conflict.",
         null,
         "Koletzko Berthold, da Dalt Liviana, De Guchtenaere Ann, Dembinski Lukasz, Grossman Zachi, Hadjipanayis Adamos, Karara Nora, Størdal Ketil",
         "Acta paediatrica (Oslo, Norway : 1992)",
         null,
         "https://www.ncbi.nlm.nih.gov/pubmed/39258854",
         "Department of Paediatrics, LMU University of Munich, Dr. von Hauner Children's Hospital, LMU Medicine, Munich, Germany.; German Center for Child and Adolescent Health, Site Munich, Munich, Germany.; Department of Women's and Children's Health, University of Padova, Padova, Italy.; General Paediatrics, University Hospital Ghent, Ghent, Belgium.; Department of Pediatric Gastroenterology and Nutrition, Medical University of Warsaw, Warsaw, Poland.; Department of Pediatrics, Adelson School of Medicine, Ariel University Pediatrics, Ariel, Israel.; Department of Pediatrics, Maccabi Health Care Services Pediatrics, Tel Aviv, Israel.; Medical School, European University Cyprus, Nicosia, Cyprus.; Department of Paediatrics, Larnaca General Hospital, Larnaca, Cyprus.; Paediatric Practice, Berlin, Germany.; Children's Center, Oslo University Hospital, Oslo, Norway.; Department of Pediatric Research, Faculty of Medicine, University of Oslo, Oslo, Norway.",
         "2024-Dec",
         null
        ],
        [
         "4",
         "37497596",
         "Post-traumatic stress in war veterans and secondary traumatic stress among parents of war veterans five years after the 2014 Israel-Gaza military conflict.",
         "Secondary traumatic stress (STS) has been studied in therapists, spouses, and mainly in children of traumatised individuals. To date, the relationship between children's posttraumatic stress disorder (PTSD) symptoms and their parents' mental health outcomes have been understudied, and specifically, long term STS symptoms of parents of war veterans were not investigated. The current study examined PTSD symptoms among veterans of the 2014 Israel-Gaza war and STS among their parents, five years after the war. The control group consisted of veterans from combat military units who were on active duty at the time of the war but did not actively participate in the war (stand-by units) - providing a natural experiment condition. We found that PTSD symptoms were almost twice as high in the directly active war veterans (DAV, <i>N</i> = 32) group compared to the indirectly active war veterans (IAV, <i>N</i> = 26) group. Results showed that mothers had higher STS symptoms in general, and DAV PTSD symptoms correlated with their fathers STS symptoms. The current study provides novel evidence for: (a) subclinical PTSD symptoms in war veterans 5 years after the war, and (b) transmission of trauma from war veterans to their parents. The overall negative effect of sending a child to war on the parents are also discussed.",
         "Leshem Shahaf, Keha Eldad, Kalanthroff Eyal",
         "European journal of psychotraumatology",
         "Child, Female, Humans, Veterans, Compassion Fatigue, Stress Disorders, Post-Traumatic, Israel, Parents",
         "https://www.ncbi.nlm.nih.gov/pubmed/37497596",
         "Department of Psychology, The Hebrew University of Jerusalem, Jerusalem, Israel.; Department of Psychology, Achva Academic College, Beer-Tuvia, Israel.",
         "2023",
         "American Psychiatric Association . (2013). Diagnostic and statistical manual of mental disorders (5th ed.). Washington, DC: American Psychiatric Publishing. | Canfield, J. (2005). Secondary traumatization, burnout, and vicarious traumatization: A review of the literature as it relates to therapists who treat trauma. Smith College Studies in Social Work, 75(2), 81–101. 10.1300/J497v75n02_06 | Dagan, S. W., Ben-Porat, A., & Itzhaky, H. (2016). Child protection workers dealing with child abuse: The contribution of personal, social and organizational resources to secondary traumatization. Child Abuse & Neglect, 51, 203–211. 10.1016/j.chiabu.2015.10.008 https://pubmed.ncbi.nlm.nih.gov/26549769 | David, D., Woodward, C., Esquenazi, J., & Mellman, T. A. (2004). Comparison of comorbid physical illnesses among veterans with PTSD and veterans with alcohol dependence. Psychiatric Services, 55(1), 82–85. 10.1176/appi.ps.55.1.82 https://pubmed.ncbi.nlm.nih.gov/14699207 | Dinshtein, Y., Dekel, R., & Polliack, M. (2011). Secondary traumatization among adult children of PTSD veterans: The role of mother–child relationships. Journal of Family Social Work, 14(2), 109–124. 10.1080/10522158.2011.544021"
        ]
       ],
       "shape": {
        "columns": 10,
        "rows": 5
       }
      },
      "text/html": [
       "<div>\n",
       "<style scoped>\n",
       "    .dataframe tbody tr th:only-of-type {\n",
       "        vertical-align: middle;\n",
       "    }\n",
       "\n",
       "    .dataframe tbody tr th {\n",
       "        vertical-align: top;\n",
       "    }\n",
       "\n",
       "    .dataframe thead th {\n",
       "        text-align: right;\n",
       "    }\n",
       "</style>\n",
       "<table border=\"1\" class=\"dataframe\">\n",
       "  <thead>\n",
       "    <tr style=\"text-align: right;\">\n",
       "      <th></th>\n",
       "      <th>Pmid</th>\n",
       "      <th>Title</th>\n",
       "      <th>Abstract</th>\n",
       "      <th>Authors</th>\n",
       "      <th>Journal</th>\n",
       "      <th>Keywords</th>\n",
       "      <th>Url</th>\n",
       "      <th>Affiliations</th>\n",
       "      <th>Publication Date</th>\n",
       "      <th>References</th>\n",
       "    </tr>\n",
       "  </thead>\n",
       "  <tbody>\n",
       "    <tr>\n",
       "      <th>0</th>\n",
       "      <td>40678639</td>\n",
       "      <td>Polio vaccination campaigns in conflicts: succ...</td>\n",
       "      <td>In conflict settings, public health interventi...</td>\n",
       "      <td>Sabahelzain Majdi M, Agha Hazem, Davidovitch N...</td>\n",
       "      <td>Frontiers in public health</td>\n",
       "      <td>Humans, Poliomyelitis, Israel, Immunization Pr...</td>\n",
       "      <td>https://www.ncbi.nlm.nih.gov/pubmed/40678639</td>\n",
       "      <td>Sydney School of Public Health, The University...</td>\n",
       "      <td>2025</td>\n",
       "      <td>Schwartzstein P. The Rise, Fall, and Possible ...</td>\n",
       "    </tr>\n",
       "    <tr>\n",
       "      <th>1</th>\n",
       "      <td>40475386</td>\n",
       "      <td>Trauma by the Numbers: A Cross-Sectional Analy...</td>\n",
       "      <td>To categorize and analyze trauma cases from th...</td>\n",
       "      <td>Wajahath Muaaz, Nasser Elias, Nayfeh Tariq, Ir...</td>\n",
       "      <td>International journal of public health</td>\n",
       "      <td>Humans, Male, Cross-Sectional Studies, Adult, ...</td>\n",
       "      <td>https://www.ncbi.nlm.nih.gov/pubmed/40475386</td>\n",
       "      <td>Michigan State University College of Human Med...</td>\n",
       "      <td>2025</td>\n",
       "      <td>Magruder KM, McLaughlin KA, Elmore Borbon DL. ...</td>\n",
       "    </tr>\n",
       "    <tr>\n",
       "      <th>2</th>\n",
       "      <td>39957103</td>\n",
       "      <td>Energy drinks, depression, insomnia, and stres...</td>\n",
       "      <td>Adolescents are increasingly consuming energy ...</td>\n",
       "      <td>Maraqa Beesan, Fasfoos Ahmad, Alami Mohammad, ...</td>\n",
       "      <td>International journal of adolescent medicine a...</td>\n",
       "      <td>Humans, Adolescent, Male, Sleep Initiation and...</td>\n",
       "      <td>https://www.ncbi.nlm.nih.gov/pubmed/39957103</td>\n",
       "      <td>College of Medicine, 115527 Hebron University ...</td>\n",
       "      <td>2025-Feb-01</td>\n",
       "      <td>Statisa . Revenue of the energy &amp; sports drink...</td>\n",
       "    </tr>\n",
       "    <tr>\n",
       "      <th>3</th>\n",
       "      <td>39258854</td>\n",
       "      <td>European Academy of Paediatrics demands protec...</td>\n",
       "      <td>NaN</td>\n",
       "      <td>Koletzko Berthold, da Dalt Liviana, De Guchten...</td>\n",
       "      <td>Acta paediatrica (Oslo, Norway : 1992)</td>\n",
       "      <td>NaN</td>\n",
       "      <td>https://www.ncbi.nlm.nih.gov/pubmed/39258854</td>\n",
       "      <td>Department of Paediatrics, LMU University of M...</td>\n",
       "      <td>2024-Dec</td>\n",
       "      <td>NaN</td>\n",
       "    </tr>\n",
       "    <tr>\n",
       "      <th>4</th>\n",
       "      <td>37497596</td>\n",
       "      <td>Post-traumatic stress in war veterans and seco...</td>\n",
       "      <td>Secondary traumatic stress (STS) has been stud...</td>\n",
       "      <td>Leshem Shahaf, Keha Eldad, Kalanthroff Eyal</td>\n",
       "      <td>European journal of psychotraumatology</td>\n",
       "      <td>Child, Female, Humans, Veterans, Compassion Fa...</td>\n",
       "      <td>https://www.ncbi.nlm.nih.gov/pubmed/37497596</td>\n",
       "      <td>Department of Psychology, The Hebrew Universit...</td>\n",
       "      <td>2023</td>\n",
       "      <td>American Psychiatric Association . (2013). Dia...</td>\n",
       "    </tr>\n",
       "  </tbody>\n",
       "</table>\n",
       "</div>"
      ],
      "text/plain": [
       "       Pmid                                              Title  \\\n",
       "0  40678639  Polio vaccination campaigns in conflicts: succ...   \n",
       "1  40475386  Trauma by the Numbers: A Cross-Sectional Analy...   \n",
       "2  39957103  Energy drinks, depression, insomnia, and stres...   \n",
       "3  39258854  European Academy of Paediatrics demands protec...   \n",
       "4  37497596  Post-traumatic stress in war veterans and seco...   \n",
       "\n",
       "                                            Abstract  \\\n",
       "0  In conflict settings, public health interventi...   \n",
       "1  To categorize and analyze trauma cases from th...   \n",
       "2  Adolescents are increasingly consuming energy ...   \n",
       "3                                                NaN   \n",
       "4  Secondary traumatic stress (STS) has been stud...   \n",
       "\n",
       "                                             Authors  \\\n",
       "0  Sabahelzain Majdi M, Agha Hazem, Davidovitch N...   \n",
       "1  Wajahath Muaaz, Nasser Elias, Nayfeh Tariq, Ir...   \n",
       "2  Maraqa Beesan, Fasfoos Ahmad, Alami Mohammad, ...   \n",
       "3  Koletzko Berthold, da Dalt Liviana, De Guchten...   \n",
       "4        Leshem Shahaf, Keha Eldad, Kalanthroff Eyal   \n",
       "\n",
       "                                             Journal  \\\n",
       "0                         Frontiers in public health   \n",
       "1             International journal of public health   \n",
       "2  International journal of adolescent medicine a...   \n",
       "3             Acta paediatrica (Oslo, Norway : 1992)   \n",
       "4             European journal of psychotraumatology   \n",
       "\n",
       "                                            Keywords  \\\n",
       "0  Humans, Poliomyelitis, Israel, Immunization Pr...   \n",
       "1  Humans, Male, Cross-Sectional Studies, Adult, ...   \n",
       "2  Humans, Adolescent, Male, Sleep Initiation and...   \n",
       "3                                                NaN   \n",
       "4  Child, Female, Humans, Veterans, Compassion Fa...   \n",
       "\n",
       "                                            Url  \\\n",
       "0  https://www.ncbi.nlm.nih.gov/pubmed/40678639   \n",
       "1  https://www.ncbi.nlm.nih.gov/pubmed/40475386   \n",
       "2  https://www.ncbi.nlm.nih.gov/pubmed/39957103   \n",
       "3  https://www.ncbi.nlm.nih.gov/pubmed/39258854   \n",
       "4  https://www.ncbi.nlm.nih.gov/pubmed/37497596   \n",
       "\n",
       "                                        Affiliations Publication Date  \\\n",
       "0  Sydney School of Public Health, The University...             2025   \n",
       "1  Michigan State University College of Human Med...             2025   \n",
       "2  College of Medicine, 115527 Hebron University ...      2025-Feb-01   \n",
       "3  Department of Paediatrics, LMU University of M...         2024-Dec   \n",
       "4  Department of Psychology, The Hebrew Universit...             2023   \n",
       "\n",
       "                                          References  \n",
       "0  Schwartzstein P. The Rise, Fall, and Possible ...  \n",
       "1  Magruder KM, McLaughlin KA, Elmore Borbon DL. ...  \n",
       "2  Statisa . Revenue of the energy & sports drink...  \n",
       "3                                                NaN  \n",
       "4  American Psychiatric Association . (2013). Dia...  "
      ]
     },
     "execution_count": null,
     "metadata": {},
     "output_type": "execute_result"
    }
   ],
   "source": [
    "df.head()"
   ]
  },
  {
   "cell_type": "code",
   "execution_count": null,
   "id": "232ce1bb",
   "metadata": {},
   "outputs": [],
   "source": [
    "df[\"Article\"] = df[\"Title\"].str.cat(df[\"Abstract\"])\n",
    "df.drop(columns=[\"Abstract\"], inplace=True)"
   ]
  },
  {
   "cell_type": "code",
   "execution_count": null,
   "id": "0b3590bc",
   "metadata": {},
   "outputs": [
    {
     "data": {
      "application/vnd.microsoft.datawrangler.viewer.v0+json": {
       "columns": [
        {
         "name": "index",
         "rawType": "int64",
         "type": "integer"
        },
        {
         "name": "Pmid",
         "rawType": "int64",
         "type": "integer"
        },
        {
         "name": "Title",
         "rawType": "object",
         "type": "string"
        },
        {
         "name": "Authors",
         "rawType": "object",
         "type": "string"
        },
        {
         "name": "Journal",
         "rawType": "object",
         "type": "string"
        },
        {
         "name": "Keywords",
         "rawType": "object",
         "type": "unknown"
        },
        {
         "name": "Url",
         "rawType": "object",
         "type": "string"
        },
        {
         "name": "Affiliations",
         "rawType": "object",
         "type": "string"
        },
        {
         "name": "Publication Date",
         "rawType": "object",
         "type": "string"
        },
        {
         "name": "References",
         "rawType": "object",
         "type": "unknown"
        },
        {
         "name": "Article",
         "rawType": "object",
         "type": "unknown"
        }
       ],
       "ref": "392b946e-4003-4d9e-952a-bd869a6f73fd",
       "rows": [
        [
         "0",
         "40678639",
         "Polio vaccination campaigns in conflicts: succeeding while other humanitarian efforts fail?",
         "Sabahelzain Majdi M, Agha Hazem, Davidovitch Nadav, Razum Oliver",
         "Frontiers in public health",
         "Humans, Poliomyelitis, Israel, Immunization Programs, Armed Conflicts, Altruism, Poliovirus Vaccines, Hygiene, Sanitation, Vaccination",
         "https://www.ncbi.nlm.nih.gov/pubmed/40678639",
         "Sydney School of Public Health, The University of Sydney, Sydney, NSW, Australia.; Sydney Infectious Diseases Institute, Faculty of Medicine and Health, The University of Sydney, Sydney, NSW, Australia.; Al-Quds Public Health Society, Jerusalem, Palestine.; School of Public Health, Ben-Gurion University of the Negev, Be'er Sheva, Israel.; School of Public Health, Bielefeld University, Bielefeld, Germany.",
         "2025",
         "Schwartzstein P. The Rise, Fall, and Possible Rise Again of the Middle East's Most Ambitious Environment Scheme. Washington, DC: Wilson Center Insight & Analysis; (2024). | Llamazares M, El Hatab O, Shah J, King T. WASH for Peace - Conflict Sensitivity and Peacebuilding Guidance and Tools for the WASH Sector. New York: UNICEF (2024). 164 p. | Inter-Agency Standing Committee (IASC). Leadership in Humanitarian Action: Handbook for Humanitarian Coordinators. (2024). 126 p. Available online at: https://interagencystandingcommittee.org/sites/default/files/2024-09/Leadership%20in%20Humanitarian%20Action_Handbook%20for%20Humanitarian%20Coordinators_2024.pdf (Accessed June 22, 2025). | Kennedy J, Michailidou D. Civil war, contested sovereignty and the limits of global health partnerships: A case study of the Syrian polio outbreak in 2013. Health Policy Plan. (2017) 32:690–8. 10.1093/heapol/czw148 https://pubmed.ncbi.nlm.nih.gov/28453719 | Schneiker A. Why trust you? Security cooperation within humanitarian NGO networks. Disasters. (2020) 44:25–43. 10.1111/disa.12363 https://pubmed.ncbi.nlm.nih.gov/31231841",
         "Polio vaccination campaigns in conflicts: succeeding while other humanitarian efforts fail?In conflict settings, public health interventions such as vaccination campaigns and improvements in water, sanitation, and hygiene (WASH) could benefit all parties involved. However, while polio vaccination campaigns frequently succeed in securing humanitarian pauses, WASH initiatives attempting to improve safe water supply and sewage disposal rarely achieve the same outcome. Using the Israel-Gaza conflict as an example, we analyze the factors contributing to the success of polio vaccination campaigns compared to WASH initiatives. We identify four key elements that facilitate the implementation of polio campaigns in conflict zones: (i) the ubiquitous decline in vaccine coverage and the subsequent detection of polio cases; (ii) international institutional support, including the role of the Global Polio Eradication Initiative (GPEI); (iii) the shortness of the required humanitarian pauses, the vertical nature, and the straightforward impact assessment of vaccination campaigns; and (iv) their \"neutral\" character due to an intentionally restrictive focus on children as the primary beneficiaries. Although polio vaccination campaigns do not typically lead to lasting peace and WASH initiatives often fail to secure even temporary humanitarian pauses, public health efforts should seize every opportunity to foster cooperation between warring parties. Such initiatives can help build trust, laying the groundwork for future peace negotiations and post-conflict reconstruction."
        ],
        [
         "1",
         "40475386",
         "Trauma by the Numbers: A Cross-Sectional Analysis and Categorization of Trauma Cases in the Gaza War.",
         "Wajahath Muaaz, Nasser Elias, Nayfeh Tariq, Irfan Bilal, Balasundaram Rohit, Nasser Mosab, Saleh Khaled J",
         "International journal of public health",
         "Humans, Male, Cross-Sectional Studies, Adult, Female, Middle Aged, Middle East, Wounds and Injuries, Adolescent, Young Adult, Child, Child, Preschool, Aged, Armed Conflicts, Warfare, Prevalence, Infant",
         "https://www.ncbi.nlm.nih.gov/pubmed/40475386",
         "Michigan State University College of Human Medicine, Lansing, MI, United States.; FAJR Scientific, Houston, TX, United States.; The University of Texas Southwestern Medical Center, Dallas, TX, United States.; Center for Bioethics, Harvard Medical School, Boston, MA, United States.; Center for Surgery and Public Health, Brigham and Women's Hospital, Boston, MA, United States.; Department of Neurology, University of Michigan Medical School, Ann Arbor, MI, United States.; Wayne State University School of Medicine, Detroit, MI, United States.",
         "2025",
         "Magruder KM, McLaughlin KA, Elmore Borbon DL. Trauma Is a Public Health Issue. Eur J Psychotraumatol (2017) 8:1375338. 10.1080/20008198.2017.1375338 https://pubmed.ncbi.nlm.nih.gov/29435198 | Wild H, Stewart BT, LeBoa C, Stave CD, Wren SM. Epidemiology of Injuries Sustained by Civilians and Local Combatants in Contemporary Armed Conflict: An Appeal for a Shared Trauma Registry Among Humanitarian Actors. World J Surg (2020) 44:1863–73. 10.1007/s00268-020-05428-y https://pubmed.ncbi.nlm.nih.gov/32100067 | Awuah WA, Tan JK, Shah MH, Ahluwalia A, Roy S, Ali SH, et al. Addressing Abdominal Trauma from Conflict and Warfare in Under‐resourced Regions: A Critical Narrative Review. Health Sci Rep (2024) 7:e70151. 10.1002/hsr2.70151 https://pubmed.ncbi.nlm.nih.gov/39444729 | Nasser E, Alshaer N, Wajahath M, Irfan B, Tahir M, Nasser M, et al. Management of Fracture-Related Infection in Conflict Zones: Lessons Learned from Medical Missions to Gaza. Antibiotics (2024) 13:1020. 10.3390/antibiotics13111020 https://pubmed.ncbi.nlm.nih.gov/39596715 | Irfan B, Lulu I, Hamawy A, Shammala AA, Kullab S, Fawaz M, et al. Combating Infections under Siege: Healthcare Challenges amidst the Military Assault in Gaza. World Med and Health Pol (2025) 17:188–213. 10.1002/wmh3.642",
         "Trauma by the Numbers: A Cross-Sectional Analysis and Categorization of Trauma Cases in the Gaza War.To categorize and analyze trauma cases from the Gaza war, identifying injury patterns and informing future humanitarian efforts in conflict zones. A cross-sectional study was conducted in April 2024 at European Gaza Hospital. Data on demographics and injury types were collected from patients treated by FAJR Scientific's surgical team. Injuries were classified into primary (directly conflict-related), secondary (indirectly conflict-related), and tertiary (unrelated to the conflict). Statistical analyses included Kruskal-Wallis H test, logistic regression, and Fisher's Exact Test. Among the 80 surgical cases analyzed, primary injuries were the most common (53%), predominantly affecting males aged 30-39. Secondary injuries accounted for 14% of cases, while tertiary injuries represented 33%. Significant associations were found between age categories and injury classifications (p < 0.05). The prevalence of primary injuries highlights the severe impact of conflict on civilians, particularly middle-aged males. The findings suggest the need for enhanced orthopedic surgical capacity, integrated chronic disease management, and specialized pediatric care in conflict zones. Improved data collection and analysis are essential for optimizing medical interventions and resource allocation."
        ],
        [
         "2",
         "39957103",
         "Energy drinks, depression, insomnia, and stress in palestinian adolescents: a cross-sectional study.",
         "Maraqa Beesan, Fasfoos Ahmad, Alami Mohammad, Banat Nader, Amr Obada, Saraheen Atef",
         "International journal of adolescent medicine and health",
         "Humans, Adolescent, Male, Sleep Initiation and Maintenance Disorders, Cross-Sectional Studies, Female, Energy Drinks, Stress, Psychological, Depression, Arabs, Surveys and Questionnaires, Middle East, Child, Prevalence, Smoking",
         "https://www.ncbi.nlm.nih.gov/pubmed/39957103",
         "College of Medicine, 115527 Hebron University , Hebron, Palestine.; Department of Family and Community Medicine, College of Medicine, Hebron University, Hebron, Palestine.",
         "2025-Feb-01",
         "Statisa . Revenue of the energy & sports drinks industry worldwide 2018-2029. Consumer goods & FMCG, non-alcoholic beverages; 2024. https://www.statista.com/statistics/691384/sales-value-energy-drinks-worldwide/#statisticContainer [Accessed 10 January 2025]. | Ali, F, Rehman, H, Babayan, Z, Stapleton, D, Joshi, DD. Energy drinks and their adverse health effects: a systematic review of the current evidence. Postgrad Med J 2015;127:308–22. https://doi.org/10.1080/00325481.2015.1001712 . | Al Sabbah, H, Younis, M. Consumption patterns and side effects of energy drinks among university students in Palestine: crosssectional study. MOJ Public Heal 2015;2. https://doi.org/10.15406/MOJPH.2015.02.00015 . | Trapp, G, Hurworth, M, Christian, H, Bromberg, M, Howard, J, McStay, C, et al.. Prevalence and pattern of energy drink intake among Australian adolescents. J Hum Nutr Diet 2021;34:300–4. https://doi.org/10.1111/JHN.12789 . | Galimov, A, Hanewinkel, R, Hansen, J, Unger, JB, Sussman, S, Morgenstern, M. Energy drink consumption among German adolescents: prevalence, correlates, and predictors of initiation. Appetite 2019;139:172–9. https://doi.org/10.1016/J.APPET.2019.04.016 .",
         "Energy drinks, depression, insomnia, and stress in palestinian adolescents: a cross-sectional study.Adolescents are increasingly consuming energy drinks (EDs), prompting worries about their potential mental health impacts. The association between ED use and psychological effects among Palestinian teenagers, particularly the impact of smoking habits such as waterpipes, electronic cigarettes, and cigarettes, is little studied. This study explores the correlation between ED consumption and mental health outcomes such as depression, insomnia, and stress among adolescents in Palestine. A cross-sectional study was conducted from February to June 2024, involving adolescents aged 12-18 recruited from schools in the West Bank. Data collection utilized a structured questionnaire assessing ED consumption, smoking habits, depression (PHQ-9), insomnia (ISI), and stress (Adolescent Stress Scale). Data were analyzed using SPSS version 29. The research involved 1,668 adolescents, with a mean age of 15.67 years (±1.57 years). ED consumption was prevalent at 74.7 % (95 % CI: 76.5-72.7). Males and smokers, especially those using traditional cigarettes and waterpipes, exhibited a higher likelihood of consuming energy drinks (aPR: 2.18; 95 %CI: 1.64-2.91), (aPR: 2.99; 95 %CI: 1.49-5.59), and (aPR: 2.54; 95 %CI: 1.23-5.19). Depression exhibited a significant relationship with ED consumption (aPR: 2.25; 95%CI: 1.51-3.37). A dose-response relationship was identified between insomnia and ED consumption, with an adjusted prevalence ratio (aPR) of 2.42 (95 % CI: 1.56-3.47) for moderate severity and 2.95 (95 % CI: 1.28-6.75) for severe insomnia. ED consumption is associated with poorer mental health outcomes, particularly among smokers. Interventions targeting both ED use and smoking behaviors are crucial to improving mental health in Palestinian adolescents. The study was conducted during the Gaza war, a period marked by heightened stress levels among participants due to increased security checks and economic hardships. These challenges may have influenced participants' stress levels and impacted their purchasing behaviors for EDs and tobacco shisha products. Further research is needed to explore the long-term effects of these behaviors."
        ],
        [
         "3",
         "39258854",
         "European Academy of Paediatrics demands protection of children's rights endangered by the ongoing Israel Gaza conflict.",
         "Koletzko Berthold, da Dalt Liviana, De Guchtenaere Ann, Dembinski Lukasz, Grossman Zachi, Hadjipanayis Adamos, Karara Nora, Størdal Ketil",
         "Acta paediatrica (Oslo, Norway : 1992)",
         null,
         "https://www.ncbi.nlm.nih.gov/pubmed/39258854",
         "Department of Paediatrics, LMU University of Munich, Dr. von Hauner Children's Hospital, LMU Medicine, Munich, Germany.; German Center for Child and Adolescent Health, Site Munich, Munich, Germany.; Department of Women's and Children's Health, University of Padova, Padova, Italy.; General Paediatrics, University Hospital Ghent, Ghent, Belgium.; Department of Pediatric Gastroenterology and Nutrition, Medical University of Warsaw, Warsaw, Poland.; Department of Pediatrics, Adelson School of Medicine, Ariel University Pediatrics, Ariel, Israel.; Department of Pediatrics, Maccabi Health Care Services Pediatrics, Tel Aviv, Israel.; Medical School, European University Cyprus, Nicosia, Cyprus.; Department of Paediatrics, Larnaca General Hospital, Larnaca, Cyprus.; Paediatric Practice, Berlin, Germany.; Children's Center, Oslo University Hospital, Oslo, Norway.; Department of Pediatric Research, Faculty of Medicine, University of Oslo, Oslo, Norway.",
         "2024-Dec",
         null,
         null
        ],
        [
         "4",
         "37497596",
         "Post-traumatic stress in war veterans and secondary traumatic stress among parents of war veterans five years after the 2014 Israel-Gaza military conflict.",
         "Leshem Shahaf, Keha Eldad, Kalanthroff Eyal",
         "European journal of psychotraumatology",
         "Child, Female, Humans, Veterans, Compassion Fatigue, Stress Disorders, Post-Traumatic, Israel, Parents",
         "https://www.ncbi.nlm.nih.gov/pubmed/37497596",
         "Department of Psychology, The Hebrew University of Jerusalem, Jerusalem, Israel.; Department of Psychology, Achva Academic College, Beer-Tuvia, Israel.",
         "2023",
         "American Psychiatric Association . (2013). Diagnostic and statistical manual of mental disorders (5th ed.). Washington, DC: American Psychiatric Publishing. | Canfield, J. (2005). Secondary traumatization, burnout, and vicarious traumatization: A review of the literature as it relates to therapists who treat trauma. Smith College Studies in Social Work, 75(2), 81–101. 10.1300/J497v75n02_06 | Dagan, S. W., Ben-Porat, A., & Itzhaky, H. (2016). Child protection workers dealing with child abuse: The contribution of personal, social and organizational resources to secondary traumatization. Child Abuse & Neglect, 51, 203–211. 10.1016/j.chiabu.2015.10.008 https://pubmed.ncbi.nlm.nih.gov/26549769 | David, D., Woodward, C., Esquenazi, J., & Mellman, T. A. (2004). Comparison of comorbid physical illnesses among veterans with PTSD and veterans with alcohol dependence. Psychiatric Services, 55(1), 82–85. 10.1176/appi.ps.55.1.82 https://pubmed.ncbi.nlm.nih.gov/14699207 | Dinshtein, Y., Dekel, R., & Polliack, M. (2011). Secondary traumatization among adult children of PTSD veterans: The role of mother–child relationships. Journal of Family Social Work, 14(2), 109–124. 10.1080/10522158.2011.544021",
         "Post-traumatic stress in war veterans and secondary traumatic stress among parents of war veterans five years after the 2014 Israel-Gaza military conflict.Secondary traumatic stress (STS) has been studied in therapists, spouses, and mainly in children of traumatised individuals. To date, the relationship between children's posttraumatic stress disorder (PTSD) symptoms and their parents' mental health outcomes have been understudied, and specifically, long term STS symptoms of parents of war veterans were not investigated. The current study examined PTSD symptoms among veterans of the 2014 Israel-Gaza war and STS among their parents, five years after the war. The control group consisted of veterans from combat military units who were on active duty at the time of the war but did not actively participate in the war (stand-by units) - providing a natural experiment condition. We found that PTSD symptoms were almost twice as high in the directly active war veterans (DAV, <i>N</i> = 32) group compared to the indirectly active war veterans (IAV, <i>N</i> = 26) group. Results showed that mothers had higher STS symptoms in general, and DAV PTSD symptoms correlated with their fathers STS symptoms. The current study provides novel evidence for: (a) subclinical PTSD symptoms in war veterans 5 years after the war, and (b) transmission of trauma from war veterans to their parents. The overall negative effect of sending a child to war on the parents are also discussed."
        ]
       ],
       "shape": {
        "columns": 10,
        "rows": 5
       }
      },
      "text/html": [
       "<div>\n",
       "<style scoped>\n",
       "    .dataframe tbody tr th:only-of-type {\n",
       "        vertical-align: middle;\n",
       "    }\n",
       "\n",
       "    .dataframe tbody tr th {\n",
       "        vertical-align: top;\n",
       "    }\n",
       "\n",
       "    .dataframe thead th {\n",
       "        text-align: right;\n",
       "    }\n",
       "</style>\n",
       "<table border=\"1\" class=\"dataframe\">\n",
       "  <thead>\n",
       "    <tr style=\"text-align: right;\">\n",
       "      <th></th>\n",
       "      <th>Pmid</th>\n",
       "      <th>Title</th>\n",
       "      <th>Authors</th>\n",
       "      <th>Journal</th>\n",
       "      <th>Keywords</th>\n",
       "      <th>Url</th>\n",
       "      <th>Affiliations</th>\n",
       "      <th>Publication Date</th>\n",
       "      <th>References</th>\n",
       "      <th>Article</th>\n",
       "    </tr>\n",
       "  </thead>\n",
       "  <tbody>\n",
       "    <tr>\n",
       "      <th>0</th>\n",
       "      <td>40678639</td>\n",
       "      <td>Polio vaccination campaigns in conflicts: succ...</td>\n",
       "      <td>Sabahelzain Majdi M, Agha Hazem, Davidovitch N...</td>\n",
       "      <td>Frontiers in public health</td>\n",
       "      <td>Humans, Poliomyelitis, Israel, Immunization Pr...</td>\n",
       "      <td>https://www.ncbi.nlm.nih.gov/pubmed/40678639</td>\n",
       "      <td>Sydney School of Public Health, The University...</td>\n",
       "      <td>2025</td>\n",
       "      <td>Schwartzstein P. The Rise, Fall, and Possible ...</td>\n",
       "      <td>Polio vaccination campaigns in conflicts: succ...</td>\n",
       "    </tr>\n",
       "    <tr>\n",
       "      <th>1</th>\n",
       "      <td>40475386</td>\n",
       "      <td>Trauma by the Numbers: A Cross-Sectional Analy...</td>\n",
       "      <td>Wajahath Muaaz, Nasser Elias, Nayfeh Tariq, Ir...</td>\n",
       "      <td>International journal of public health</td>\n",
       "      <td>Humans, Male, Cross-Sectional Studies, Adult, ...</td>\n",
       "      <td>https://www.ncbi.nlm.nih.gov/pubmed/40475386</td>\n",
       "      <td>Michigan State University College of Human Med...</td>\n",
       "      <td>2025</td>\n",
       "      <td>Magruder KM, McLaughlin KA, Elmore Borbon DL. ...</td>\n",
       "      <td>Trauma by the Numbers: A Cross-Sectional Analy...</td>\n",
       "    </tr>\n",
       "    <tr>\n",
       "      <th>2</th>\n",
       "      <td>39957103</td>\n",
       "      <td>Energy drinks, depression, insomnia, and stres...</td>\n",
       "      <td>Maraqa Beesan, Fasfoos Ahmad, Alami Mohammad, ...</td>\n",
       "      <td>International journal of adolescent medicine a...</td>\n",
       "      <td>Humans, Adolescent, Male, Sleep Initiation and...</td>\n",
       "      <td>https://www.ncbi.nlm.nih.gov/pubmed/39957103</td>\n",
       "      <td>College of Medicine, 115527 Hebron University ...</td>\n",
       "      <td>2025-Feb-01</td>\n",
       "      <td>Statisa . Revenue of the energy &amp; sports drink...</td>\n",
       "      <td>Energy drinks, depression, insomnia, and stres...</td>\n",
       "    </tr>\n",
       "    <tr>\n",
       "      <th>3</th>\n",
       "      <td>39258854</td>\n",
       "      <td>European Academy of Paediatrics demands protec...</td>\n",
       "      <td>Koletzko Berthold, da Dalt Liviana, De Guchten...</td>\n",
       "      <td>Acta paediatrica (Oslo, Norway : 1992)</td>\n",
       "      <td>NaN</td>\n",
       "      <td>https://www.ncbi.nlm.nih.gov/pubmed/39258854</td>\n",
       "      <td>Department of Paediatrics, LMU University of M...</td>\n",
       "      <td>2024-Dec</td>\n",
       "      <td>NaN</td>\n",
       "      <td>NaN</td>\n",
       "    </tr>\n",
       "    <tr>\n",
       "      <th>4</th>\n",
       "      <td>37497596</td>\n",
       "      <td>Post-traumatic stress in war veterans and seco...</td>\n",
       "      <td>Leshem Shahaf, Keha Eldad, Kalanthroff Eyal</td>\n",
       "      <td>European journal of psychotraumatology</td>\n",
       "      <td>Child, Female, Humans, Veterans, Compassion Fa...</td>\n",
       "      <td>https://www.ncbi.nlm.nih.gov/pubmed/37497596</td>\n",
       "      <td>Department of Psychology, The Hebrew Universit...</td>\n",
       "      <td>2023</td>\n",
       "      <td>American Psychiatric Association . (2013). Dia...</td>\n",
       "      <td>Post-traumatic stress in war veterans and seco...</td>\n",
       "    </tr>\n",
       "  </tbody>\n",
       "</table>\n",
       "</div>"
      ],
      "text/plain": [
       "       Pmid                                              Title  \\\n",
       "0  40678639  Polio vaccination campaigns in conflicts: succ...   \n",
       "1  40475386  Trauma by the Numbers: A Cross-Sectional Analy...   \n",
       "2  39957103  Energy drinks, depression, insomnia, and stres...   \n",
       "3  39258854  European Academy of Paediatrics demands protec...   \n",
       "4  37497596  Post-traumatic stress in war veterans and seco...   \n",
       "\n",
       "                                             Authors  \\\n",
       "0  Sabahelzain Majdi M, Agha Hazem, Davidovitch N...   \n",
       "1  Wajahath Muaaz, Nasser Elias, Nayfeh Tariq, Ir...   \n",
       "2  Maraqa Beesan, Fasfoos Ahmad, Alami Mohammad, ...   \n",
       "3  Koletzko Berthold, da Dalt Liviana, De Guchten...   \n",
       "4        Leshem Shahaf, Keha Eldad, Kalanthroff Eyal   \n",
       "\n",
       "                                             Journal  \\\n",
       "0                         Frontiers in public health   \n",
       "1             International journal of public health   \n",
       "2  International journal of adolescent medicine a...   \n",
       "3             Acta paediatrica (Oslo, Norway : 1992)   \n",
       "4             European journal of psychotraumatology   \n",
       "\n",
       "                                            Keywords  \\\n",
       "0  Humans, Poliomyelitis, Israel, Immunization Pr...   \n",
       "1  Humans, Male, Cross-Sectional Studies, Adult, ...   \n",
       "2  Humans, Adolescent, Male, Sleep Initiation and...   \n",
       "3                                                NaN   \n",
       "4  Child, Female, Humans, Veterans, Compassion Fa...   \n",
       "\n",
       "                                            Url  \\\n",
       "0  https://www.ncbi.nlm.nih.gov/pubmed/40678639   \n",
       "1  https://www.ncbi.nlm.nih.gov/pubmed/40475386   \n",
       "2  https://www.ncbi.nlm.nih.gov/pubmed/39957103   \n",
       "3  https://www.ncbi.nlm.nih.gov/pubmed/39258854   \n",
       "4  https://www.ncbi.nlm.nih.gov/pubmed/37497596   \n",
       "\n",
       "                                        Affiliations Publication Date  \\\n",
       "0  Sydney School of Public Health, The University...             2025   \n",
       "1  Michigan State University College of Human Med...             2025   \n",
       "2  College of Medicine, 115527 Hebron University ...      2025-Feb-01   \n",
       "3  Department of Paediatrics, LMU University of M...         2024-Dec   \n",
       "4  Department of Psychology, The Hebrew Universit...             2023   \n",
       "\n",
       "                                          References  \\\n",
       "0  Schwartzstein P. The Rise, Fall, and Possible ...   \n",
       "1  Magruder KM, McLaughlin KA, Elmore Borbon DL. ...   \n",
       "2  Statisa . Revenue of the energy & sports drink...   \n",
       "3                                                NaN   \n",
       "4  American Psychiatric Association . (2013). Dia...   \n",
       "\n",
       "                                             Article  \n",
       "0  Polio vaccination campaigns in conflicts: succ...  \n",
       "1  Trauma by the Numbers: A Cross-Sectional Analy...  \n",
       "2  Energy drinks, depression, insomnia, and stres...  \n",
       "3                                                NaN  \n",
       "4  Post-traumatic stress in war veterans and seco...  "
      ]
     },
     "execution_count": null,
     "metadata": {},
     "output_type": "execute_result"
    }
   ],
   "source": [
    "df.to_csv(\"data/tests.csv\", index=False)\n",
    "df.head()"
   ]
  },
  {
   "cell_type": "code",
   "execution_count": null,
   "id": "32993ea3",
   "metadata": {},
   "outputs": [],
   "source": [
    "@dataclass\n",
    "class FastEmbed(Embeddings):\n",
    "    fe: TextEmbedding = field(default_factory=TextEmbedding)\n",
    "\n",
    "    def embed_documents(self, texts: list[str]):\n",
    "        return [emb.tolist() for emb in self.fe.embed(texts)]\n",
    "\n",
    "    def embed_query(self, text: str):\n",
    "        return list(self.fe.embed([text]))[0].tolist()"
   ]
  },
  {
   "cell_type": "code",
   "execution_count": null,
   "id": "ff99eaf2",
   "metadata": {},
   "outputs": [],
   "source": [
    "embeddings = FastEmbed(\n",
    "    TextEmbedding(\n",
    "        model_name=\"sentence-transformers/all-MiniLM-L6-v2\",  # TODO, use a medical embedding based on pubmed\n",
    "        cache_dir=os.path.expanduser(\"~/.cache/fastembed\"),\n",
    "    )\n",
    ")\n",
    "\n",
    "splitter = SemanticChunker(embeddings)\n",
    "\n",
    "loader = CSVLoader(\n",
    "    file_path=\"data/tests.csv\",\n",
    "    source_column=\"Pmid\",\n",
    "    content_columns=[\"Article\"],\n",
    "    metadata_columns=[\n",
    "        \"Pmid\",\n",
    "        \"Title\",\n",
    "        \"Url\",\n",
    "        \"Authors\",\n",
    "        \"Keywords\",\n",
    "        \"Journal\",\n",
    "        \"Publication Date\",\n",
    "        \"References\",\n",
    "    ],\n",
    ")\n",
    "documents = loader.load()\n",
    "\n",
    "splitted_documents = splitter.split_documents(documents)"
   ]
  },
  {
   "cell_type": "markdown",
   "id": "9250f6c4",
   "metadata": {},
   "source": [
    "# Develop a Gold Dataset for RAG Evaluation"
   ]
  },
  {
   "cell_type": "code",
   "execution_count": null,
   "id": "e7105b74",
   "metadata": {},
   "outputs": [],
   "source": [
    "evaluator_llm = LangchainLLMWrapper(ChatDeepSeek(model=\"deepseek-chat\"))\n",
    "wrapped_embeddings = LangchainEmbeddingsWrapper(embeddings)\n",
    "\n",
    "# Create TestsetGenerator using the wrapped embeddings and the evaluator LLM\n",
    "generator = TestsetGenerator(llm=evaluator_llm, embedding_model=wrapped_embeddings)"
   ]
  },
  {
   "cell_type": "code",
   "execution_count": null,
   "id": "f19205e1",
   "metadata": {},
   "outputs": [],
   "source": [
    "query_distribution = [\n",
    "    (MultiHopAbstractQuerySynthesizer(llm=evaluator_llm), 0.5),\n",
    "    (SingleHopSpecificQuerySynthesizer(llm=evaluator_llm), 0.5),\n",
    "]"
   ]
  },
  {
   "cell_type": "code",
   "execution_count": null,
   "id": "e53f5ca6",
   "metadata": {},
   "outputs": [
    {
     "data": {
      "application/vnd.jupyter.widget-view+json": {
       "model_id": "a2bf7624a3ea45dca78878f8bb719075",
       "version_major": 2,
       "version_minor": 0
      },
      "text/plain": [
       "Applying SummaryExtractor:   0%|          | 0/18 [00:00<?, ?it/s]"
      ]
     },
     "metadata": {},
     "output_type": "display_data"
    },
    {
     "data": {
      "application/vnd.jupyter.widget-view+json": {
       "model_id": "d0fb72d8e922493b9e8eeda773f292bc",
       "version_major": 2,
       "version_minor": 0
      },
      "text/plain": [
       "Applying CustomNodeFilter:   0%|          | 0/24 [00:00<?, ?it/s]"
      ]
     },
     "metadata": {},
     "output_type": "display_data"
    },
    {
     "name": "stderr",
     "output_type": "stream",
     "text": [
      "Node b8cbd378-733a-45d9-b139-471242db0c60 does not have a summary. Skipping filtering.\n",
      "Node 34a94fb9-3a1f-408e-ac91-9db0ce074192 does not have a summary. Skipping filtering.\n",
      "Node 8699f979-cec9-44d2-b569-2619c98267ef does not have a summary. Skipping filtering.\n",
      "Node fd5bd1ff-ff32-4f91-b058-5b74ce6e4b2e does not have a summary. Skipping filtering.\n",
      "Node b734e0b7-319f-42b0-9c31-3398d15cfb9d does not have a summary. Skipping filtering.\n",
      "Node 757cdbf4-bc68-425d-9d3c-fa0c95fe3484 does not have a summary. Skipping filtering.\n"
     ]
    },
    {
     "data": {
      "application/vnd.jupyter.widget-view+json": {
       "model_id": "460e19e91651467fb166dd02fe452eac",
       "version_major": 2,
       "version_minor": 0
      },
      "text/plain": [
       "Applying EmbeddingExtractor:   0%|          | 0/18 [00:00<?, ?it/s]"
      ]
     },
     "metadata": {},
     "output_type": "display_data"
    },
    {
     "data": {
      "application/vnd.jupyter.widget-view+json": {
       "model_id": "a6f831d1117845ce8cda95f80f8822e0",
       "version_major": 2,
       "version_minor": 0
      },
      "text/plain": [
       "Applying ThemesExtractor:   0%|          | 0/24 [00:00<?, ?it/s]"
      ]
     },
     "metadata": {},
     "output_type": "display_data"
    },
    {
     "data": {
      "application/vnd.jupyter.widget-view+json": {
       "model_id": "b825068fc89d4078be6087cc61ea4f2c",
       "version_major": 2,
       "version_minor": 0
      },
      "text/plain": [
       "Applying NERExtractor:   0%|          | 0/24 [00:00<?, ?it/s]"
      ]
     },
     "metadata": {},
     "output_type": "display_data"
    },
    {
     "data": {
      "application/vnd.jupyter.widget-view+json": {
       "model_id": "e4e19b38a9a14721aff2c1338896e4c9",
       "version_major": 2,
       "version_minor": 0
      },
      "text/plain": [
       "Applying CosineSimilarityBuilder:   0%|          | 0/1 [00:00<?, ?it/s]"
      ]
     },
     "metadata": {},
     "output_type": "display_data"
    },
    {
     "data": {
      "application/vnd.jupyter.widget-view+json": {
       "model_id": "bdce40e1ac0c41739def3d93b6c88ff0",
       "version_major": 2,
       "version_minor": 0
      },
      "text/plain": [
       "Applying OverlapScoreBuilder:   0%|          | 0/1 [00:00<?, ?it/s]"
      ]
     },
     "metadata": {},
     "output_type": "display_data"
    },
    {
     "data": {
      "application/vnd.jupyter.widget-view+json": {
       "model_id": "9b8994c872994c6db1fd1c940e9af5a4",
       "version_major": 2,
       "version_minor": 0
      },
      "text/plain": [
       "Generating personas:   0%|          | 0/3 [00:00<?, ?it/s]"
      ]
     },
     "metadata": {},
     "output_type": "display_data"
    },
    {
     "data": {
      "application/vnd.jupyter.widget-view+json": {
       "model_id": "8ab0b6b203e64abc9fc17f8c7359c840",
       "version_major": 2,
       "version_minor": 0
      },
      "text/plain": [
       "Generating Scenarios:   0%|          | 0/2 [00:00<?, ?it/s]"
      ]
     },
     "metadata": {},
     "output_type": "display_data"
    },
    {
     "data": {
      "application/vnd.jupyter.widget-view+json": {
       "model_id": "a91d8e1d5a0146e0adfbaf5136afa02c",
       "version_major": 2,
       "version_minor": 0
      },
      "text/plain": [
       "Generating Samples:   0%|          | 0/10 [00:00<?, ?it/s]"
      ]
     },
     "metadata": {},
     "output_type": "display_data"
    }
   ],
   "source": [
    "dataset = generator.generate_with_langchain_docs(\n",
    "    splitted_documents,\n",
    "    testset_size=10,  # Generate a larger dataset so we can have more of the test set too\n",
    "    query_distribution=query_distribution,\n",
    ")"
   ]
  },
  {
   "cell_type": "code",
   "execution_count": null,
   "id": "33639dfa",
   "metadata": {},
   "outputs": [
    {
     "name": "stdout",
     "output_type": "stream",
     "text": [
      "Generated testset saved to RAGEvaluation/generated_testset.csv\n"
     ]
    }
   ],
   "source": [
    "os.makedirs(\"RAGEvaluation\", exist_ok=True)\n",
    "df = dataset.to_pandas()\n",
    "output_csv_path = os.path.join(\"RAGEvaluation\", \"generated_testset.csv\")\n",
    "df.to_csv(output_csv_path, index=False)\n",
    "print(f\"Generated testset saved to {output_csv_path}\")"
   ]
  },
  {
   "cell_type": "markdown",
   "id": "4e0748a5",
   "metadata": {},
   "source": [
    "# Develop a RAG"
   ]
  },
  {
   "cell_type": "code",
   "execution_count": null,
   "id": "7fb27b941602401d91542211134fc71a",
   "metadata": {},
   "outputs": [],
   "source": [
    "def batch_process(\n",
    "    documents: list[Document],\n",
    "    embeddings: FastEmbed,\n",
    "    persist_directory: str = \"faiss_index\",\n",
    "    batch_size: int = 10,\n",
    "    force_rebuild: bool = False,\n",
    "):\n",
    "    # Check if the persist_directory exists, else create one\n",
    "    os.makedirs(persist_directory, exist_ok=True)\n",
    "    index_path = os.path.join(persist_directory, \"index.faiss\")\n",
    "\n",
    "    if not force_rebuild and os.path.exists(index_path):\n",
    "        vector_index = FAISS.load_local(\n",
    "            persist_directory, embeddings, allow_dangerous_deserialization=True\n",
    "        )\n",
    "\n",
    "    else:\n",
    "        print(f\"Creating new FAISS index at {persist_directory}\")\n",
    "        # Create them batches\n",
    "        batched_docs = [\n",
    "            documents[i : i + batch_size] for i in range(0, len(documents), batch_size)\n",
    "        ]\n",
    "        vector_index = FAISS.from_documents(batched_docs[0], embeddings)\n",
    "\n",
    "        for batch in batched_docs[1:]:\n",
    "            vector_index.add_documents(batch)\n",
    "\n",
    "        # Persist the vector index\n",
    "        vector_index.save_local(persist_directory)\n",
    "\n",
    "    return vector_index"
   ]
  },
  {
   "cell_type": "code",
   "execution_count": null,
   "id": "acae54e37e7d407bbb7b55eff062a284",
   "metadata": {},
   "outputs": [],
   "source": [
    "@dataclass\n",
    "class RetrieverConfig:\n",
    "    k: int = 5\n",
    "    sparse_weight: float = 0.65\n",
    "    dense_weight: float = 0.35\n",
    "    similarity_threshold: float = 0.6\n",
    "    redundancy_threshold: float = 0.95\n",
    "    top_n: int = 4\n",
    "    reranker_model: str = \"ms-marco-MiniLM-L-12-v2\"\n",
    "    reranker_cache_dir: str = \"~/.cache/flashrank\""
   ]
  },
  {
   "cell_type": "code",
   "execution_count": null,
   "id": "8dd0d8092fe74a7c96281538738b07e2",
   "metadata": {},
   "outputs": [],
   "source": [
    "class FastEmbedRerank(BaseDocumentCompressor):\n",
    "    model_config = ConfigDict(arbitrary_types_allowed=True)\n",
    "\n",
    "    model_name: str = Field(\n",
    "        default=\"Xenova/ms-marco-miniLM-L-6-v2\", description=\"Cross-encoder model name\"\n",
    "    )\n",
    "    cache_dir: str = Field(\n",
    "        default=\"~/.cache/fastembed\", description=\"Cache directory for models\"\n",
    "    )\n",
    "    top_n: int = Field(default=5, description=\"Number of top documents to return\")\n",
    "    encoder: TextCrossEncoder = Field(\n",
    "        default=None, description=\"Cross encoder instance\"\n",
    "    )\n",
    "\n",
    "    def __init__(self, **kwargs):\n",
    "        super().__init__(**kwargs)\n",
    "        if self.encoder is None:\n",
    "            self.encoder = TextCrossEncoder(\n",
    "                model_name=self.model_name, cache_dir=os.path.expanduser(self.cache_dir)\n",
    "            )\n",
    "\n",
    "    def _convert_to_documents(self, docs):\n",
    "        \"\"\"\n",
    "        Converts a list of documents to a uniform format.\n",
    "\n",
    "        This method processes a list of documents and converts _DocumentswithState objects\n",
    "        to a standardized format if they have a specific attribute. Documents\n",
    "        with the \"state\" attribute are converted into `Document` objects,\n",
    "        whereas others are appended to the output list unchanged.\n",
    "\n",
    "        Parameters:\n",
    "        docs: list\n",
    "            A list of document-like objects which may or may not need to be\n",
    "            converted to a standard format.\n",
    "\n",
    "        Returns:\n",
    "        list\n",
    "            A list of documents, with some converted to the `Document` type if\n",
    "            the \"state\" attribute was present.\n",
    "        \"\"\"\n",
    "        converted_docs = []\n",
    "        for doc in docs:\n",
    "            if hasattr(doc, \"state\"):\n",
    "                doc = Document(page_content=doc.page_content, metadata=doc.metadata)\n",
    "                converted_docs.append(doc)\n",
    "            else:\n",
    "                converted_docs.append(doc)  # A regular document object\n",
    "\n",
    "        return converted_docs\n",
    "\n",
    "    def _normalize_scores(self, scores):\n",
    "        \"\"\"\n",
    "        Normalize a list of scores using the sigmoid function.\n",
    "\n",
    "        The method applies the sigmoid function to each score in a list, which\n",
    "        maps the input scores to probabilities in the range [0, 1]. This is useful\n",
    "        for tasks requiring normalized probabilities such as classification scores.\n",
    "\n",
    "        Args:\n",
    "            scores: A list of numerical values representing the raw scores to be\n",
    "                normalized.\n",
    "\n",
    "        Returns:\n",
    "            A list of float values representing the normalized probabilities after\n",
    "            applying the sigmoid function.\n",
    "        \"\"\"\n",
    "        probs = 1 / (1 + np.exp(-np.array(scores)))  # Sigmoid\n",
    "        return probs.tolist()\n",
    "\n",
    "    def compress_documents(\n",
    "        self,\n",
    "        documents: Sequence[Document],\n",
    "        query: str,\n",
    "        callbacks: Callbacks | None = None,\n",
    "    ):\n",
    "        \"\"\"\n",
    "        Reranks and compresses a set of provided documents based on relevance to a query.\n",
    "\n",
    "        This method processes the given documents by first ensuring that only those with non-empty\n",
    "        page content are considered valid. It then calculates relevance scores for the documents\n",
    "        with respect to the query, normalizes these scores, and attaches them to the documents.\n",
    "        The documents are finally sorted by their relevance scores in descending order, and the\n",
    "        top-ranked ones are returned.\n",
    "\n",
    "        Parameters:\n",
    "            documents: Sequence[Document]\n",
    "                A sequence of documents to be reranked and compressed.\n",
    "            query: str\n",
    "                A query string used to determine the relevance of the documents.\n",
    "            callbacks: Optional[Callbacks]\n",
    "                A set of callbacks that may be executed during processing.\n",
    "\n",
    "        Returns:\n",
    "            A list of reranked documents sorted by relevance score in descending order.\n",
    "\n",
    "        Raises:\n",
    "            This method handles and logs any exceptions raised during processing\n",
    "            but does not explicitly propagate them.\n",
    "        \"\"\"\n",
    "        if not documents:\n",
    "            logger.error(\"No documents provided for reranking step\")\n",
    "            return []\n",
    "\n",
    "        documents = self._convert_to_documents(documents)\n",
    "        logger.debug(f\"Reranking {len(documents)} documents\")\n",
    "\n",
    "        valid_docs = [doc for doc in documents if doc.page_content.strip()]\n",
    "        if not valid_docs:\n",
    "            logger.error(\"The documents provided have no page contents!\")\n",
    "            return []\n",
    "\n",
    "        try:\n",
    "            doc_texts = [\n",
    "                doc.page_content\n",
    "                for doc in valid_docs\n",
    "                if doc.page_content and doc.page_content.strip()\n",
    "            ]\n",
    "            scores = list(self.encoder.rerank(query, doc_texts))\n",
    "\n",
    "            norm_scores = self._normalize_scores(scores)\n",
    "\n",
    "            # Attach scores to documents and sort\n",
    "            scored_docs = []\n",
    "            for doc, score in zip(valid_docs, norm_scores):\n",
    "                doc.metadata[\"relevance_score\"] = float(score)\n",
    "                scored_docs.append(doc)\n",
    "\n",
    "            # Sort the reranked documents and return the top_n\n",
    "            reranked_docs = sorted(\n",
    "                scored_docs, key=lambda d: d.metadata[\"relevance_score\"], reverse=True\n",
    "            )\n",
    "            return reranked_docs[: self.top_n]\n",
    "\n",
    "        except Exception as e:\n",
    "            logger.error(f\"An error occurred during Reranking: {str(e)}\")\n",
    "            return []"
   ]
  },
  {
   "cell_type": "code",
   "execution_count": null,
   "id": "72eea5119410473aa328ad9291626812",
   "metadata": {},
   "outputs": [],
   "source": [
    "def build_retriever(\n",
    "    splitted_documents: list[Document],\n",
    "    embeddings: Embeddings,\n",
    "    config: RetrieverConfig = None,\n",
    ") -> ContextualCompressionRetriever:\n",
    "    if config is None:\n",
    "        config = RetrieverConfig()\n",
    "\n",
    "    if not splitted_documents:\n",
    "        raise ValueError(\"No documents are passed\")\n",
    "\n",
    "    try:\n",
    "        # Dense + Sparse retrieval\n",
    "        vector_store = batch_process(splitted_documents, embeddings)\n",
    "        dense_retriever = vector_store.as_retriever(search_kwargs={\"k\": config.k})\n",
    "        sparse_retriever = BM25Retriever.from_documents(\n",
    "            splitted_documents, k=config.k\n",
    "        )  # TODO: Develop a gold dataset to test the effect of weighting\n",
    "        ensemble_retriever = EnsembleRetriever(\n",
    "            retrievers=[sparse_retriever, dense_retriever],\n",
    "            weights=[config.sparse_weight, config.dense_weight],\n",
    "        )  # Lean more on sparse retrieval, embeddings are not trained on medical data\n",
    "\n",
    "        # Develop a compression pipeline\n",
    "\n",
    "        pipeline_compressor = DocumentCompressorPipeline(\n",
    "            transformers=[\n",
    "                EmbeddingsFilter(\n",
    "                    embeddings=embeddings,\n",
    "                    similarity_threshold=config.similarity_threshold,\n",
    "                ),\n",
    "                EmbeddingsRedundantFilter(\n",
    "                    embeddings=embeddings,\n",
    "                    similarity_threshold=config.redundancy_threshold,\n",
    "                ),\n",
    "                FastEmbedRerank(),\n",
    "            ]\n",
    "        )\n",
    "\n",
    "        return ContextualCompressionRetriever(\n",
    "            base_compressor=pipeline_compressor, base_retriever=ensemble_retriever\n",
    "        )\n",
    "    except Exception as e:\n",
    "        logger.error(f\"An error occurred during retrieval: {str(e)}\")\n",
    "        # Fallback to simple dense retriever\n",
    "        vector_store = batch_process(splitted_documents, embeddings)\n",
    "        return vector_store.as_retriever(search_kwargs={\"k\": config.k})"
   ]
  },
  {
   "cell_type": "code",
   "execution_count": null,
   "id": "8edb47106e1a46a883d545849b8ab81b",
   "metadata": {},
   "outputs": [
    {
     "name": "stdout",
     "output_type": "stream",
     "text": [
      "Creating new FAISS index at faiss_index\n"
     ]
    }
   ],
   "source": [
    "retriever = build_retriever(splitted_documents, embeddings)"
   ]
  },
  {
   "cell_type": "code",
   "execution_count": null,
   "id": "10185d26023b46108eb7d9f57d49d2b3",
   "metadata": {},
   "outputs": [
    {
     "name": "stderr",
     "output_type": "stream",
     "text": [
      "\u001b[32m2025-10-06 18:40:33.827\u001b[0m | \u001b[34m\u001b[1mDEBUG   \u001b[0m | \u001b[36m__main__\u001b[0m:\u001b[36mcompress_documents\u001b[0m:\u001b[36m105\u001b[0m - \u001b[34m\u001b[1mReranking 2 documents\u001b[0m\n"
     ]
    },
    {
     "data": {
      "text/plain": [
       "[Document(metadata={'source': '29553411', 'row': 9, 'Pmid': '29553411', 'Title': 'Quality of life, primary traumatisation, and positive and negative affects in primary school students in the Gaza Strip.', 'Url': 'https://www.ncbi.nlm.nih.gov/pubmed/29553411', 'Authors': 'Veronese Guido, Pepe Alessandro, Almurnak Feda, Jaradah Alaa, Hamdouna Husam', 'Keywords': '', 'Journal': 'Lancet (London, England)', 'Publication Date': '2018-Feb-21', 'References': '', 'relevance_score': 0.9996894948956601}, page_content=\"Article: Quality of life, primary traumatisation, and positive and negative affects in primary school students in the Gaza Strip.Many researchers have reported that exposure to war and ongoing political violence increases mental health problems in children. Results of studies have also shown a high prevalence (58-80%) of post-traumatic stress disorder in war-affected children living in the occupied Palestinian territory. The aim of this study was to estimate the direct and indirect effects of perceived life satisfaction on the consequences of children's exposure to trauma and the balance of positive and negative affect. Palestinian children were recruited from primary schools in four refugee camps in the Gaza Strip (Bureij, Gaza Beach Camp, Jabalia, Rafah). All children had been involved in or witnessed one or more episodes of violence involving other people in the 2 months prior to the study (the 2012 Gaza War). We used the Multidimensional Students Life Satisfaction Scale (peers, self, living environment, school, family), the Positive and Negative Affect Scale for Children, and the revised Children Impact of Events scale (intrusion and avoidance symptoms) to test (through structural equation modelling) the moderation effect of life satisfaction on war trauma via positive emotions. 1276 Palestinian children were enrolled in this study.\"),\n",
       " Document(metadata={'source': '22491534', 'row': 12, 'Pmid': '22491534', 'Title': 'The impact of occupation on child health in a Palestinian refugee camp.', 'Url': 'https://www.ncbi.nlm.nih.gov/pubmed/22491534', 'Authors': 'Basak Polly', 'Keywords': 'Adult, Arabs, Child, Child Welfare, Female, Focus Groups, Health Services Accessibility, Health Status, Humans, Interviews as Topic, Mental Health, Middle Aged, Middle East, Nutritional Status, Parents, Perception, Quality of Health Care, Refugees, Social Environment, Social Support, Socioeconomic Factors, Surveys and Questionnaires, Warfare', 'Journal': 'Journal of tropical pediatrics', 'Publication Date': '2012-Dec', 'References': '', 'relevance_score': 0.9942677101365228}, page_content=\"Article: The impact of occupation on child health in a Palestinian refugee camp.This article focuses on child health in the Palestinian refugee camp of Dheisheh in the West Bank region of the Occupied Palestinian Territories. Thirty in-depth interviews were carried out with parents to determine their perceptions of their children's health. The questions related to physical, mental and social well-being, access to health facilities, factors that were likely to hinder health and measures that could be implemented to improve child health. The study was carried out prior to and during the Gaza War in December 2008 that resulted in the deaths of 1380 Palestinians including 431 children and 112 women [1]. The effects of occupation, conflict and being a refugee had a detrimental impact on perceptions of health.\")]"
      ]
     },
     "execution_count": null,
     "metadata": {},
     "output_type": "execute_result"
    }
   ],
   "source": [
    "retriever.invoke(\"What are the effects of the Gaza war on children\")"
   ]
  }
 ],
 "metadata": {
  "kernelspec": {
   "display_name": "PyCharmProjects",
   "language": "python",
   "name": "python3"
  },
  "language_info": {
   "codemirror_mode": {
    "name": "ipython",
    "version": 3
   },
   "file_extension": ".py",
   "mimetype": "text/x-python",
   "name": "python",
   "nbconvert_exporter": "python",
   "pygments_lexer": "ipython3"
  },
  "vincent": {
   "sessionId": "cfc305bccd64ee55a62be711_2025-10-05T15-22-51-228Z"
  }
 },
 "nbformat": 4,
 "nbformat_minor": 5
}
